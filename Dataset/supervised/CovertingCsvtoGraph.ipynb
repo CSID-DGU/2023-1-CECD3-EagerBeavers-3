{
  "nbformat": 4,
  "nbformat_minor": 0,
  "metadata": {
    "colab": {
      "private_outputs": true,
      "provenance": []
    },
    "kernelspec": {
      "name": "python3",
      "display_name": "Python 3"
    },
    "language_info": {
      "name": "python"
    }
  },
  "cells": [
    {
      "cell_type": "code",
      "source": [
        "import networkx as nx\n",
        "import pandas as pd\n",
        "\n",
        "from google.colab import drive\n",
        "drive.mount('/content/drive')\n"
      ],
      "metadata": {
        "id": "8GQU3X8RvMaX"
      },
      "execution_count": null,
      "outputs": []
    },
    {
      "cell_type": "code",
      "source": [
        "file_path = '/content/drive/MyDrive/labelling_file.csv'\n",
        "df = pd.read_csv(file_path)"
      ],
      "metadata": {
        "id": "hSr0IMq8vXWz"
      },
      "execution_count": null,
      "outputs": []
    },
    {
      "cell_type": "code",
      "source": [
        "result_counts = df['result'].value_counts()\n",
        "print(\"Result Counts:\")\n",
        "print(result_counts)\n"
      ],
      "metadata": {
        "id": "VK3F57uRD4s3"
      },
      "execution_count": null,
      "outputs": []
    },
    {
      "cell_type": "code",
      "source": [
        "# 그래프를 저장할 리스트\n",
        "graphs = []\n",
        "# 각 행에 대해 그래프 생성\n",
        "for idx, row in df.iterrows():\n",
        "    # 노드 및 엣지 정보 추출\n",
        "    nodes_info = [node.split(':') for node in row['nodes'].split('|')]\n",
        "    edges_info = [edge.split('->') for edge in row['edges'].split('|')]\n",
        "\n",
        "    # 마지막 원소 제거\n",
        "    nodes_info.pop()\n",
        "    edges_info.pop()\n",
        "\n",
        "    # 그래프 생성\n",
        "    G = nx.Graph()\n",
        "\n",
        "    # 노드 추가\n",
        "    for node_info in nodes_info:\n",
        "        G.add_node(node_info[0], feature=node_info[1])\n",
        "\n",
        "    # 엣지 추가\n",
        "    for edge_info in edges_info:\n",
        "        # 엣지 특성을 추가\n",
        "        if len(edge_info) > 1:\n",
        "            source, target_feature = edge_info[0], edge_info[1].split(':')\n",
        "            if len(target_feature) > 1:\n",
        "                target, feature = target_feature[0], target_feature[1]\n",
        "                G.add_edge(source, target, feature=feature)\n",
        "            else:\n",
        "                print(\"Error: Edge feature is missing.\")\n",
        "        else:\n",
        "            print(\"Error: Incomplete edge information.\")\n",
        "\n",
        "    # 그래프에 'result' 라벨 추가\n",
        "    G.graph['result'] = row['result']\n",
        "\n",
        "    # 그래프를 리스트에 추가\n",
        "    graphs.append(G)\n",
        "\n",
        "# 결과 확인\n",
        "for i, graph in enumerate(graphs):\n",
        "    print(f\"\\nGraph {i + 1} - Node Features:\")\n",
        "    for node, data in graph.nodes(data=True):\n",
        "        if 'feature' in data:\n",
        "            print(f\"Node {node}: {data['feature']}\")\n",
        "\n",
        "    print(\"\\nGraph {i + 1} - Edge Features:\")\n",
        "    for edge in graph.edges(data=True):\n",
        "        print(f\"Edge {edge[0]} -> {edge[1]}: {edge[2]['feature']}\")\n",
        "\n",
        "    print(f\"Graph {i + 1} - Label: {graph.graph['result']}\")\n"
      ],
      "metadata": {
        "id": "F6RkslY_6R5k"
      },
      "execution_count": null,
      "outputs": []
    },
    {
      "cell_type": "code",
      "source": [
        "# 결과 확인\n",
        "for i, graph in enumerate(graphs):\n",
        "\n",
        "    print(f\"Graph {i + 1} - Label: {graph.graph['result']}\")"
      ],
      "metadata": {
        "id": "TDFymaW9CilZ"
      },
      "execution_count": null,
      "outputs": []
    }
  ]
}