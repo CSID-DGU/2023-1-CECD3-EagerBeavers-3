{
  "nbformat": 4,
  "nbformat_minor": 0,
  "metadata": {
    "colab": {
      "provenance": [],
      "collapsed_sections": [
        "bAxlKBdJBMT8",
        "2N0q-hNZBmUI",
        "yjQ9cHsxBrV_"
      ],
      "mount_file_id": "1b7S5rarWXxXwGyHlE90CG7T8LZnHFdg4",
      "authorship_tag": "ABX9TyP+aZGkAYNaEFK1Cnfy/5O6",
      "include_colab_link": true
    },
    "kernelspec": {
      "name": "python3",
      "display_name": "Python 3"
    },
    "language_info": {
      "name": "python"
    }
  },
  "cells": [
    {
      "cell_type": "markdown",
      "metadata": {
        "id": "view-in-github",
        "colab_type": "text"
      },
      "source": [
        "<a href=\"https://colab.research.google.com/github/CSID-DGU/2023-1-CECD3-EagerBeavers-3/blob/main/%EC%A2%85%EC%84%A4_%EC%9E%90%EB%8F%99%ED%99%94_%EC%88%98%EC%A0%95.ipynb\" target=\"_parent\"><img src=\"https://colab.research.google.com/assets/colab-badge.svg\" alt=\"Open In Colab\"/></a>"
      ]
    },
    {
      "cell_type": "markdown",
      "source": [
        "# Joern을 통해 CPG 생성하기\n",
        "- joern이 설치되어 있어야 함 ( /content/drive/MyDrive/jongsul/y 아래에)\n",
        "- input.java에 입력 자바파일이 있어야 함 (/content/drive/MyDrive/jongsul/input.java)\n",
        "- output 폴더는 없어야 함"
      ],
      "metadata": {
        "id": "bAxlKBdJBMT8"
      }
    },
    {
      "cell_type": "code",
      "execution_count": 3,
      "metadata": {
        "colab": {
          "base_uri": "https://localhost:8080/"
        },
        "id": "ftTR67F9Ab4F",
        "outputId": "13e41b7a-1402-4691-95ae-31d7fb2ab35b"
      },
      "outputs": [
        {
          "output_type": "execute_result",
          "data": {
            "text/plain": [
              "0"
            ]
          },
          "metadata": {},
          "execution_count": 3
        }
      ],
      "source": [
        "import os, sys\n",
        "\n",
        "# 권한 부여하기\n",
        "os.system('chmod +x /content/drive/MyDrive/jongsul/fixed.sh')\n",
        "# 실행하기\n",
        "os.system('sh /content/drive/MyDrive/jongsul/fixed.sh')"
      ]
    },
    {
      "cell_type": "markdown",
      "source": [
        "# 생성한 CPG로 시간복잡도 예측\n"
      ],
      "metadata": {
        "id": "2N0q-hNZBmUI"
      }
    },
    {
      "cell_type": "code",
      "source": [
        "# 코드 작성"
      ],
      "metadata": {
        "id": "89_dukhKBokO"
      },
      "execution_count": null,
      "outputs": []
    },
    {
      "cell_type": "markdown",
      "source": [
        "# output 폴더 삭제"
      ],
      "metadata": {
        "id": "yjQ9cHsxBrV_"
      }
    },
    {
      "cell_type": "code",
      "source": [
        "import os\n",
        "\n",
        "os.system('rm -rf /content/drive/MyDrive/jongsul/output')"
      ],
      "metadata": {
        "colab": {
          "base_uri": "https://localhost:8080/"
        },
        "id": "S9YQ_3aoBt2y",
        "outputId": "006d7854-d857-457c-c0ff-7c48061912de"
      },
      "execution_count": 2,
      "outputs": [
        {
          "output_type": "execute_result",
          "data": {
            "text/plain": [
              "0"
            ]
          },
          "metadata": {},
          "execution_count": 2
        }
      ]
    }
  ]
}