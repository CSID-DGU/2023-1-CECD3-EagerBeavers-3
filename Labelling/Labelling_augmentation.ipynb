{
  "nbformat": 4,
  "nbformat_minor": 0,
  "metadata": {
    "colab": {
      "private_outputs": true,
      "provenance": []
    },
    "kernelspec": {
      "name": "python3",
      "display_name": "Python 3"
    },
    "language_info": {
      "name": "python"
    }
  },
  "cells": [
    {
      "cell_type": "code",
      "execution_count": null,
      "metadata": {
        "id": "oC-tcxj6CXGZ"
      },
      "outputs": [],
      "source": [
        "from google.colab import drive\n",
        "drive.mount('/content/drive')\n",
        "\n",
        "!pip install datasets\n",
        "from datasets import load_dataset\n"
      ]
    },
    {
      "cell_type": "code",
      "source": [
        "import os\n",
        "import pandas as pd\n",
        "\n",
        "file_path = '/content/drive/MyDrive/augmentation_labal_table.csv'\n",
        "dataset = pd.read_csv(file_path)\n",
        "print(dataset.head())"
      ],
      "metadata": {
        "id": "XjDXyTevkv5t"
      },
      "execution_count": null,
      "outputs": []
    },
    {
      "cell_type": "code",
      "source": [
        "# index 값이 5000인 행 출력하는 반복문\n",
        "for index, row in dataset.iterrows():\n",
        "    if row['Index'] == 5000:\n",
        "        print(row['Label'])"
      ],
      "metadata": {
        "id": "Rt0MHPQxmBBr"
      },
      "execution_count": null,
      "outputs": []
    },
    {
      "cell_type": "code",
      "source": [
        "def label_complexity(complexity):\n",
        "    if complexity == 'constant':\n",
        "        return 0\n",
        "    elif complexity == 'logn':\n",
        "        return 1\n",
        "    elif complexity == 'linear':\n",
        "        return 2\n",
        "    elif complexity == 'nlogn':\n",
        "        return 3\n",
        "    elif complexity == 'quadratic':\n",
        "        return 4\n",
        "    else:\n",
        "        return -1  # 알 수 없는 경우\n",
        "# index 값이 5000인 행 출력하는 반복문\n",
        "for index, row in dataset.iterrows():\n",
        "    if row['Index'] == 5000:\n",
        "        print(label_complexity(row['Label']))\n",
        "        complexity = label_complexity(dataset['train'][index_value]['complexity'])"
      ],
      "metadata": {
        "id": "WnGpr6BfCfTW"
      },
      "execution_count": null,
      "outputs": []
    },
    {
      "cell_type": "code",
      "source": [
        "\n",
        "file_path = '/content/drive/MyDrive/augmentedOutputInfo.csv'\n",
        "df = pd.read_csv(file_path)\n",
        "print(df)"
      ],
      "metadata": {
        "id": "qkPQhRaqCocN"
      },
      "execution_count": null,
      "outputs": []
    },
    {
      "cell_type": "code",
      "source": [
        "# 새로운 열을 추가하기 위한 반복문\n",
        "new_column_data = []\n",
        "error = 0\n",
        "\n",
        "for index, row in df.iterrows():\n",
        "    index_value = row['index']\n",
        "    #complexity = label_complexity(dataset[index_value]['Label'])\n",
        "    value_in_b = dataset.loc[dataset['Index'] == index_value, 'Label'].values[0]\n",
        "    complexity = label_complexity(value_in_b)\n",
        "    # 새로운 열 데이터 생성\n",
        "    if complexity == -1:\n",
        "        error = error + 1\n",
        "        print(dataset['train'][index_value]['complexity'])\n",
        "    new_column_data.append(complexity)\n",
        "print(error)"
      ],
      "metadata": {
        "id": "B5xTnaAKrUhS"
      },
      "execution_count": null,
      "outputs": []
    },
    {
      "cell_type": "code",
      "source": [
        "df['result'] = new_column_data\n",
        "\n",
        "# 결과 출력\n",
        "print(df.iloc[1])\n",
        "\n",
        "# 삭제할 특정 값을 가지는 행의 인덱스를 찾기\n",
        "index_to_drop = df[df['result'] == -1].index\n",
        "\n",
        "# drop 메서드를 사용하여 해당 행 삭제\n",
        "df = df.drop(index_to_drop)"
      ],
      "metadata": {
        "id": "BPIn-7UXwWYQ"
      },
      "execution_count": null,
      "outputs": []
    },
    {
      "cell_type": "code",
      "source": [
        "print(df[df['result'] == -1])"
      ],
      "metadata": {
        "id": "Xb8ehumPwZsB"
      },
      "execution_count": null,
      "outputs": []
    },
    {
      "cell_type": "code",
      "source": [
        "df.to_csv('augmentedOutput.csv', index=False)"
      ],
      "metadata": {
        "id": "QL4FLAUDwl0R"
      },
      "execution_count": null,
      "outputs": []
    }
  ]
}