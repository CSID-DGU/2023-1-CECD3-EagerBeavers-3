{
  "nbformat": 4,
  "nbformat_minor": 0,
  "metadata": {
    "colab": {
      "private_outputs": true,
      "provenance": []
    },
    "kernelspec": {
      "name": "python3",
      "display_name": "Python 3"
    },
    "language_info": {
      "name": "python"
    }
  },
  "cells": [
    {
      "cell_type": "code",
      "source": [
        "from google.colab import drive\n",
        "drive.mount('/content/drive')\n",
        "import pandas as pd\n"
      ],
      "metadata": {
        "id": "AhfNbUQTyA0P"
      },
      "execution_count": null,
      "outputs": []
    },
    {
      "cell_type": "code",
      "source": [
        "file_path = '/content/drive/MyDrive/augmentedOutput.csv'\n",
        "df_1 = pd.read_csv(file_path)\n",
        "print(df_1)\n"
      ],
      "metadata": {
        "id": "9Qjt2WQTx7CW"
      },
      "execution_count": null,
      "outputs": []
    },
    {
      "cell_type": "code",
      "source": [
        "file_path = '/content/drive/MyDrive/labelling_file.csv'\n",
        "df_2 = pd.read_csv(file_path)\n",
        "print(df_2)"
      ],
      "metadata": {
        "id": "o1tZUqUMyMki"
      },
      "execution_count": null,
      "outputs": []
    },
    {
      "cell_type": "code",
      "execution_count": null,
      "metadata": {
        "id": "HaFPU15dxnO1"
      },
      "outputs": [],
      "source": [
        "# 두 개의 DataFrame을 합치기\n",
        "result_df = pd.concat([df_1, df_2], ignore_index=True)\n",
        "\n",
        "# 결과 DataFrame 출력\n",
        "print(result_df)"
      ]
    },
    {
      "cell_type": "code",
      "source": [
        "result_df.to_csv('/content/drive/MyDrive/labelling_file_1507.csv', index=False)"
      ],
      "metadata": {
        "id": "g85pKoTAy7Hg"
      },
      "execution_count": null,
      "outputs": []
    }
  ]
}