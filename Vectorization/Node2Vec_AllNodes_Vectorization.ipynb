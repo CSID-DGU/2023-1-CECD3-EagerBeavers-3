{
  "nbformat": 4,
  "nbformat_minor": 0,
  "metadata": {
    "colab": {
      "private_outputs": true,
      "provenance": []
    },
    "kernelspec": {
      "name": "python3",
      "display_name": "Python 3"
    },
    "language_info": {
      "name": "python"
    }
  },
  "cells": [
    {
      "cell_type": "code",
      "source": [
        "## using graphviz\n",
        "!apt-get -qq install -y graphviz && pip install -q pydot\n",
        "import pydot\n",
        "## 아래 있는것은 필수는 아닌데, 가끔 에러가 생길 때가 있어서, 그냥 같이 해줌.\n",
        "!apt-get install graphviz libgraphviz-dev pkg-config\n",
        "!pip install pygraphviz\n",
        "import pygraphviz"
      ],
      "metadata": {
        "id": "GQ5UvNZGxOBv"
      },
      "execution_count": null,
      "outputs": []
    },
    {
      "cell_type": "code",
      "execution_count": null,
      "metadata": {
        "id": "YEptRcE6vtmx"
      },
      "outputs": [],
      "source": [
        "!pip install node2vec\n"
      ]
    },
    {
      "cell_type": "code",
      "source": [
        "from google.colab import drive\n",
        "drive.mount('/content/drive')"
      ],
      "metadata": {
        "id": "e51P7yWvv9p_"
      },
      "execution_count": null,
      "outputs": []
    },
    {
      "cell_type": "code",
      "source": [
        "from node2vec import Node2Vec\n",
        "import networkx as nx\n",
        "import pygraphviz as pgv\n",
        "\n",
        "dot_filename = \"/content/drive/MyDrive/0-cpg.dot\"  # 실제 DOT 파일의 경로\n",
        "\n",
        "# DOT 파일 파싱 및 그래프 생성 함수\n",
        "def parse_dot_file(dot_filename):\n",
        "    graph = pgv.AGraph(dot_filename)\n",
        "    cpg_graph = nx.DiGraph()\n",
        "\n",
        "    for edge in graph.edges():\n",
        "        source = edge[0]\n",
        "        target = edge[1]\n",
        "        cpg_graph.add_edge(source, target)\n",
        "\n",
        "    return cpg_graph\n",
        "\n",
        "# DOT 파일 파싱 및 그래프 생성\n",
        "cpg_graph = parse_dot_file(dot_filename)\n",
        "\n",
        "# Node2Vec 모델 생성 (병렬처리 비활성화)\n",
        "node2vec = Node2Vec(cpg_graph, dimensions=128, walk_length=10, num_walks=10, workers=1)\n",
        "\n",
        "# 모델 학습\n",
        "model = node2vec.fit(window=5, min_count=1, batch_words=4)\n",
        "\n",
        "# 모든 노드에 대한 벡터 얻기\n",
        "all_node_vectors = {node: model.wv[str(node)] for node in cpg_graph.nodes()}\n",
        "\n",
        "# all_node_vectors를 이용하여 필요한 작업 수행\n",
        "# 예: 모든 노드 벡터의 평균, 유사도 계산 등\n",
        "print(all_node_vectors)"
      ],
      "metadata": {
        "id": "MKsy-MwLv9zn"
      },
      "execution_count": null,
      "outputs": []
    },
    {
      "cell_type": "code",
      "source": [],
      "metadata": {
        "id": "Haz6tLXk0b91"
      },
      "execution_count": null,
      "outputs": []
    }
  ]
}