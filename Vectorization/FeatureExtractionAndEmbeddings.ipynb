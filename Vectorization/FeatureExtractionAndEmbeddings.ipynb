{
  "nbformat": 4,
  "nbformat_minor": 0,
  "metadata": {
    "colab": {
      "private_outputs": true,
      "provenance": []
    },
    "kernelspec": {
      "name": "python3",
      "display_name": "Python 3"
    },
    "language_info": {
      "name": "python"
    }
  },
  "cells": [
    {
      "cell_type": "code",
      "execution_count": null,
      "metadata": {
        "id": "x9oZ2Nt1kDWK"
      },
      "outputs": [],
      "source": [
        "from google.colab import drive\n",
        "drive.mount('/content/drive')"
      ]
    },
    {
      "cell_type": "code",
      "source": [
        "# DOT 파일 경로\n",
        "dot_file_path = \"/content/drive/MyDrive/1-cpg.dot\"\n",
        "\n",
        "# DOT 파일 읽기\n",
        "with open(dot_file_path, \"r\") as dot_file:\n",
        "    lines = dot_file.readlines()\n",
        "\n",
        "# 디버깅 메시지: DOT 파일 내용 출력\n",
        "print(\"DOT File Contents:\")\n",
        "for line in lines:\n",
        "    print(line.strip())"
      ],
      "metadata": {
        "id": "TnaKdif5qwus"
      },
      "execution_count": null,
      "outputs": []
    },
    {
      "cell_type": "code",
      "source": [
        "!pip install node2vec"
      ],
      "metadata": {
        "id": "IgyOREqmwyNn"
      },
      "execution_count": null,
      "outputs": []
    },
    {
      "cell_type": "code",
      "source": [
        "import numpy as np\n",
        "from gensim.models import Word2Vec\n",
        "import networkx as nx\n",
        "from random import shuffle\n",
        "from node2vec import Node2Vec  # Node2Vec 모듈 가져오기\n",
        "# 노드 정보 추출\n",
        "is_node = True\n",
        "nodes = {}\n",
        "\n",
        "for line in lines:\n",
        "    line = line.strip()\n",
        "    if line.startswith('digraph'):\n",
        "        continue  # 그래프 시작 라인 무시\n",
        "    if '->' in line:\n",
        "        is_node = False\n",
        "        continue\n",
        "    if line == '}':\n",
        "        break  # 그래프 정의 끝나면 종료\n",
        "    if is_node:\n",
        "        parts = line.split('[label = ')\n",
        "        node_id = parts[0].strip('\" ')\n",
        "        label = parts[1].strip('\" ]')\n",
        "        nodes[node_id] = label\n",
        "    elif line.endswith('{'):\n",
        "        is_node = True\n",
        "\n",
        "# \"IDENTIFIER\" 또는 \"METHOD\" 레이블을 가진 노드 추출\n",
        "matching_nodes = {node_id: label for node_id, label in nodes.items() if \"CONTROL_STRUCTURE\" in label or \"IDENTIFIER\" in label or \"LITERAL\" in label or \"LOCAL\" in label or \"operator\" in label}\n",
        "print(matching_nodes)\n",
        "# 그래프 생성 및 노드 추가\n",
        "G = nx.Graph()\n",
        "\n",
        "for node_id, label in matching_nodes.items():\n",
        "    G.add_node(node_id, label=label)\n",
        "\n",
        "# Node2Vec를 사용하여 노드 임베딩 생성\n",
        "node2vec = Node2Vec(G, dimensions=64, walk_length=30, num_walks=200, workers=4)\n",
        "model = node2vec.fit(window=10, min_count=1, batch_words=4)\n",
        "\n",
        "# 임베딩 데이터 추출\n",
        "node_embeddings = np.array([model.wv[node_id] for node_id in matching_nodes.keys()])\n",
        "print(node_embeddings)"
      ],
      "metadata": {
        "id": "McuSbe-s2Jjg"
      },
      "execution_count": null,
      "outputs": []
    },
    {
      "cell_type": "code",
      "source": [
        "# DOT 파일을 읽고 CFG 및 DDG 엣지 정보를 저장할 자료구조 초기화\n",
        "cfg_edges = []\n",
        "ddg_edges = []\n",
        "cdg_edges = []\n",
        "\n",
        "for line in lines:\n",
        "    line = line.strip()\n",
        "    if line.startswith('digraph'):\n",
        "        continue  # 그래프 시작 라인 무시\n",
        "    if '->' in line:\n",
        "        parts = line.split('[ label = \"')\n",
        "        if len(parts) > 1:\n",
        "            edge_labels = parts[1].split('\"]')\n",
        "            edge_type = edge_labels[0].strip()\n",
        "            if edge_type.startswith(\"CFG:\") or edge_type.startswith(\"DDG:\") or edge_type.startswith(\"CDG:\"):\n",
        "                # 엣지 정보 추출\n",
        "                source, target = map(str.strip, parts[0].split('->'))\n",
        "                if edge_type.startswith(\"CFG:\"):\n",
        "                    cfg_edges.append((source, target))\n",
        "                elif edge_type.startswith(\"DDG:\"):\n",
        "                    ddg_edges.append((source, target))\n",
        "                else:\n",
        "                    cdg_edges.append((source, target))\n",
        "\n",
        "# \"CFG:\" 레이블을 가진 CFG 엣지 출력\n",
        "print(\"CFG Edges:\")\n",
        "for edge in cfg_edges:\n",
        "    print(edge)\n",
        "\n",
        "# \"DDG:\" 레이블을 가진 DDG 엣지 출력\n",
        "print(\"\\nDDG Edges:\")\n",
        "for edge in ddg_edges:\n",
        "    print(edge)\n",
        "\n",
        "# \"CDG:\" 레이블을 가진 CDG 엣지 출력\n",
        "print(\"\\nCDG Edges:\")\n",
        "for edge in cdg_edges:\n",
        "    print(edge)\n",
        "\n",
        "\n"
      ],
      "metadata": {
        "id": "LKQIH3nmuMdP"
      },
      "execution_count": null,
      "outputs": []
    },
    {
      "cell_type": "code",
      "source": [
        "from gensim.models import Word2Vec\n",
        "\n",
        "# 엣지 임베딩 생성 함수\n",
        "def generate_edge_embeddings(edge_list, dimensions=64, walk_length=30, num_walks=200, workers=4):\n",
        "    # 엣지 정보를 담은 리스트에서 중복된 엣지 제거\n",
        "    unique_edges = list(set(edge_list))\n",
        "\n",
        "    # 엣지를 문자열로 변환\n",
        "    edge_strings = [f\"{edge[0]} -> {edge[1]}\" for edge in unique_edges]\n",
        "\n",
        "    # 엣지 임베딩을 위한 모델 생성\n",
        "    model = Word2Vec(sentences=edge_strings, vector_size=dimensions, window=10, min_count=1, sg=1, workers=workers)\n",
        "\n",
        "    # 모델 학습\n",
        "    model.train(edge_strings, total_examples=len(edge_strings), epochs=10)\n",
        "\n",
        "    return model\n",
        "\n",
        "# CFG 엣지 임베딩 생성\n",
        "cfg_edge_model = generate_edge_embeddings(cfg_edges)\n",
        "print(cfg_edge_model)\n",
        "print(cfg_edge_model.wv)\n"
      ],
      "metadata": {
        "id": "He20TBq2CQcM"
      },
      "execution_count": null,
      "outputs": []
    },
    {
      "cell_type": "code",
      "source": [
        "vector_keys = cfg_edge_model.wv.index_to_key\n",
        "print(\"벡터 키 목록:\", vector_keys)"
      ],
      "metadata": {
        "id": "QFGqKGo_C3R0"
      },
      "execution_count": null,
      "outputs": []
    },
    {
      "cell_type": "code",
      "source": [
        "# DOT 파일을 읽고 CFG 및 DDG 엣지 정보를 저장할 자료구조 초기화\n",
        "cfg_edges = []\n",
        "ddg_edges = []\n",
        "\n",
        "# 엣지 정보 추출\n",
        "for line in lines:\n",
        "    line = line.strip()\n",
        "    if line.startswith('digraph'):\n",
        "        continue  # 그래프 시작 라인 무시\n",
        "    if '->' in line:\n",
        "        parts = line.split('[ label = \"')\n",
        "        if len(parts) > 1:\n",
        "            edge_labels = parts[1].split('\"]')\n",
        "            edge_type = edge_labels[0].strip()\n",
        "            if edge_type.startswith(\"CFG:\") or edge_type.startswith(\"DDG:\"):\n",
        "                if edge_type.startswith(\"CFG:\"):\n",
        "                    cfg_edges.append(line)\n",
        "                else:\n",
        "                    ddg_edges.append(line)\n",
        "\n",
        "# \"CFG:\" 레이블을 가진 CFG 엣지 출력\n",
        "print(\"CFG Edges:\")\n",
        "for edge in cfg_edges:\n",
        "    print(edge)\n",
        "\n",
        "# \"DDG:\" 레이블을 가진 DDG 엣지 출력\n",
        "print(\"\\nDDG Edges:\")\n",
        "for edge in ddg_edges:\n",
        "    print(edge)"
      ],
      "metadata": {
        "id": "UAfize6uaSVC"
      },
      "execution_count": null,
      "outputs": []
    },
    {
      "cell_type": "code",
      "source": [
        "from gensim.models import Word2Vec\n",
        "\n",
        "# 엣지 정보 추출\n",
        "edges = []\n",
        "for edge_str in cfg_edges:\n",
        "    parts = edge_str.split(\" -> \")\n",
        "    source = parts[0].strip()\n",
        "    target = parts[1].split(\"  [\")[0].strip()\n",
        "    edges.append([source, target])  # 엣지를 리스트로 변환\n",
        "\n",
        "# Word2Vec 모델 학습\n",
        "model = Word2Vec(sentences=edges, vector_size=64, window=5, sg=1, min_count=1, workers=4)\n",
        "\n",
        "# 학습된 모델을 저장\n",
        "model.save(\"edge_embedding.model\")\n",
        "\n",
        "# 저장된 모델을 로드\n",
        "loaded_model = Word2Vec.load(\"edge_embedding.model\")"
      ],
      "metadata": {
        "id": "D5aWtGZOzVVz"
      },
      "execution_count": null,
      "outputs": []
    },
    {
      "cell_type": "code",
      "source": [
        "vector_keys = loaded_model.wv.index_to_key\n",
        "print(\"벡터 키 목록:\", vector_keys)\n",
        "\n",
        "# 엣지 임베딩 확인 (예시: \"20 -> 30\"의 엣지 임베딩)\n",
        "# edge_embedding = loaded_model.wv[[ '\"20\"']]  # 출발 노드와 도착 노드를 리스트로 전달\n",
        "# print(\"Edge embedding (20 -> 30):\", edge_embedding)"
      ],
      "metadata": {
        "id": "86vrsTiobe4c"
      },
      "execution_count": null,
      "outputs": []
    },
    {
      "cell_type": "markdown",
      "source": [],
      "metadata": {
        "id": "_N9W5wZOolel"
      }
    }
  ]
}