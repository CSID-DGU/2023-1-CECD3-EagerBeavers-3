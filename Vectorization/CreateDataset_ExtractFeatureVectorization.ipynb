{
  "nbformat": 4,
  "nbformat_minor": 0,
  "metadata": {
    "colab": {
      "private_outputs": true,
      "provenance": [],
      "toc_visible": true
    },
    "kernelspec": {
      "name": "python3",
      "display_name": "Python 3"
    },
    "language_info": {
      "name": "python"
    }
  },
  "cells": [
    {
      "cell_type": "code",
      "execution_count": null,
      "metadata": {
        "id": "x9oZ2Nt1kDWK"
      },
      "outputs": [],
      "source": [
        "from google.colab import drive\n",
        "drive.mount('/content/drive')"
      ]
    },
    {
      "cell_type": "code",
      "source": [
        "import os\n",
        "# cpg.dot들이 저장되어 있는 폴더 경로\n",
        "folder_path = \"/content/drive/MyDrive/test/\"\n",
        "\n",
        "# 폴더 내의 파일 목록 얻기\n",
        "file_list = os.listdir(folder_path)\n",
        "\n",
        "# DOT 파일을 읽는 함수 정의\n",
        "def read_dot_file(file_path):\n",
        "    with open(file_path, \"r\") as dot_file:\n",
        "        lines = dot_file.readlines()\n",
        "    return lines"
      ],
      "metadata": {
        "id": "TnaKdif5qwus"
      },
      "execution_count": null,
      "outputs": []
    },
    {
      "cell_type": "code",
      "source": [
        "!pip install node2vec\n",
        "!pip install datasets"
      ],
      "metadata": {
        "id": "IgyOREqmwyNn"
      },
      "execution_count": null,
      "outputs": []
    },
    {
      "cell_type": "code",
      "source": [
        "from datasets import load_dataset\n",
        "\n",
        "dataset = load_dataset(\"codeparrot/codecomplex\")"
      ],
      "metadata": {
        "id": "Tffoa2I1WSY2"
      },
      "execution_count": null,
      "outputs": []
    },
    {
      "cell_type": "code",
      "source": [
        "def label_complexity(complexity):\n",
        "    if complexity == 'constant':\n",
        "        return 0\n",
        "    elif complexity == 'logn':\n",
        "        return 1\n",
        "    elif complexity == 'linear':\n",
        "        return 2\n",
        "    elif complexity == 'nlogn':\n",
        "        return 3\n",
        "    else:\n",
        "        return -1  # 알 수 없는 경우\n"
      ],
      "metadata": {
        "id": "3-v4LKxeWYfu"
      },
      "execution_count": null,
      "outputs": []
    },
    {
      "cell_type": "code",
      "source": [
        "import numpy as np\n",
        "from gensim.models import Word2Vec\n",
        "import networkx as nx\n",
        "from random import shuffle\n",
        "from node2vec import Node2Vec  # Node2Vec 모듈 가져오기"
      ],
      "metadata": {
        "id": "McuSbe-s2Jjg"
      },
      "execution_count": null,
      "outputs": []
    },
    {
      "cell_type": "markdown",
      "source": [
        "#노드 정보 추출 및 벡터화 생성 코드"
      ],
      "metadata": {
        "id": "pPPq8sQKXPin"
      }
    },
    {
      "cell_type": "code",
      "source": [
        "def extract_node_info(lines):\n",
        "    is_node = True\n",
        "    nodes = {}\n",
        "    for line in lines:\n",
        "        line = line.strip()\n",
        "        if line.startswith('digraph'):\n",
        "            continue  # 그래프 시작 라인 무시\n",
        "        if '->' in line:\n",
        "            is_node = False\n",
        "            continue\n",
        "        if line == '}':\n",
        "            break  # 그래프 정의 끝나면 종료\n",
        "        if is_node:\n",
        "            parts = line.split('[label = ')\n",
        "            node_id = parts[0].strip('\" ')\n",
        "            label = parts[1].strip('\" ]')\n",
        "            nodes[node_id] = label\n",
        "        elif line.endswith('{'):\n",
        "            is_node = True\n",
        "\n",
        "    return nodes\n"
      ],
      "metadata": {
        "id": "CfpzdyC_GlE4"
      },
      "execution_count": null,
      "outputs": []
    },
    {
      "cell_type": "code",
      "source": [
        "import networkx as nx\n",
        "import numpy as np\n",
        "from node2vec import Node2Vec\n",
        "\n",
        "# 함수로 노드 임베딩 생성\n",
        "def generate_node_embeddings(graph_edges, node_labels, dimensions=64, walk_length=30, num_walks=200, workers=4):\n",
        "    # 그래프 생성 및 노드 추가\n",
        "    G = nx.Graph()\n",
        "\n",
        "    for node_id, label in node_labels.items():\n",
        "        G.add_node(node_id, label=label)\n",
        "\n",
        "    # Node2Vec를 사용하여 노드 임베딩 생성\n",
        "    node2vec = Node2Vec(G, dimensions=dimensions, walk_length=walk_length, num_walks=num_walks, workers=workers)\n",
        "    model = node2vec.fit(window=10, min_count=1, batch_words=4)\n",
        "\n",
        "    # 임베딩 데이터 추출\n",
        "    node_vectors = np.array([model.wv[node_id] for node_id in node_labels.keys()])\n",
        "\n",
        "    return node_vectors\n",
        "\n"
      ],
      "metadata": {
        "id": "XybqrZAKF8Vk"
      },
      "execution_count": null,
      "outputs": []
    },
    {
      "cell_type": "code",
      "source": [
        "# 노드 정보 추출 함수 호출\n",
        "nodes = extract_node_info(lines)\n",
        "\n",
        "# \"IDENTIFIER\" 또는 \"METHOD\" 레이블을 가진 노드 추출\n",
        "matching_nodes = {node_id: label for node_id, label in nodes.items() if \"CONTROL_STRUCTURE\" in label or \"IDENTIFIER\" in label or \"LITERAL\" in label or \"LOCAL\" in label or \"operator\" in label}\n",
        "\n",
        "# 노드 임베딩 생성 함수 호출\n",
        "node_vectors = generate_node_embeddings(edges, matching_nodes)\n",
        "\n",
        "print(node_vectors)"
      ],
      "metadata": {
        "id": "98mvfaHRN_g9"
      },
      "execution_count": null,
      "outputs": []
    },
    {
      "cell_type": "markdown",
      "source": [
        "#엣지 정보 추출 및 벡터화 코드"
      ],
      "metadata": {
        "id": "kXhER4tsW9z_"
      }
    },
    {
      "cell_type": "code",
      "source": [
        "def extract_edges_from_dot_file(lines):\n",
        "    edges = []\n",
        "\n",
        "    for line in lines:\n",
        "        line = line.strip()\n",
        "        if line.startswith('digraph'):\n",
        "            continue  # 그래프 시작 라인 무시\n",
        "        if '->' in line:\n",
        "            parts = line.split('[ label = \"')\n",
        "            if len(parts) > 1:\n",
        "                edge_labels = parts[1].split('\"]')\n",
        "                edge_type = edge_labels[0].strip()\n",
        "                if edge_type.startswith(\"CFG:\") or edge_type.startswith(\"DDG:\") or edge_type.startswith(\"CDG:\"):\n",
        "                    # 엣지 정보 추출\n",
        "                    source, target = map(str.strip, parts[0].split('->'))\n",
        "                    if edge_type.startswith(\"CFG:\"):\n",
        "                        edges.append((source, target))\n",
        "                    elif edge_type.startswith(\"DDG:\"):\n",
        "                        edges.append((source, target))\n",
        "                    else:\n",
        "                        edges.append((source, target))\n",
        "\n",
        "    return edges\n",
        "# 함수 호출하여 엣지 정보 추출\n"
      ],
      "metadata": {
        "id": "LKQIH3nmuMdP"
      },
      "execution_count": null,
      "outputs": []
    },
    {
      "cell_type": "code",
      "source": [
        "def generate_edge_vectors(edges, vector_size=64, window=10, min_count=1, sg=1, workers=4, epochs=10):\n",
        "    # 엣지를 문자열 리스트로 변환\n",
        "    edge_strings = [f\"{edge[0]} -> {edge[1]}\" for edge in edges]\n",
        "\n",
        "    # Word2Vec 모델 생성\n",
        "    model = Word2Vec(vector_size=vector_size, window=window, min_count=min_count, sg=sg, workers=workers)\n",
        "\n",
        "    # 모델에 학습 데이터 추가\n",
        "    model.build_vocab(corpus_iterable=[edge_strings])\n",
        "\n",
        "    # 모델 학습\n",
        "    model.train(corpus_iterable=[edge_strings], total_examples=len(edge_strings), epochs=epochs)\n",
        "\n",
        "    # 엣지 벡터를 NumPy 배열로 변환\n",
        "    edge_vectors = np.array([model.wv[edge_str] for edge_str in edge_strings])\n",
        "\n",
        "    return edge_vectors\n"
      ],
      "metadata": {
        "id": "2J6LEcVgtJLq"
      },
      "execution_count": null,
      "outputs": []
    },
    {
      "cell_type": "code",
      "source": [
        "\n",
        "edges = extract_edges_from_dot_file(lines)\n",
        "edge_vectors = generate_edge_vectors(edges)\n",
        "print(edge_vectors)"
      ],
      "metadata": {
        "id": "XDw6uUA9Qilz"
      },
      "execution_count": null,
      "outputs": []
    },
    {
      "cell_type": "markdown",
      "source": [
        "#데이터셋 구축\n"
      ],
      "metadata": {
        "id": "u094kLbXW2LX"
      }
    },
    {
      "cell_type": "code",
      "source": [
        "import os\n",
        "import re\n",
        "import csv\n",
        "\n",
        "# 폴더 내의 각 파일을 읽어서 처리\n",
        "idx = 0\n",
        "\n",
        "# CSV 파일 열기\n",
        "with open('/content/drive/MyDrive/code_data.csv', mode='w', newline='') as csv_file:\n",
        "    writer = csv.writer(csv_file)\n",
        "    writer.writerow(['Index', 'Node_Vectors', 'Edge_Vectors', 'Code_Complexity'])\n",
        "    for file_name in file_list:\n",
        "        if file_name.endswith(\".dot\"):  # 확장자가 .dot인 파일만 처리\n",
        "            file_path = os.path.join(folder_path, file_name)\n",
        "            lines = read_dot_file(file_path)\n",
        "            print(file_name)\n",
        "            # 노드 정보 추출 함수 호출\n",
        "            nodes = extract_node_info(lines)\n",
        "            # \"IDENTIFIER\" 또는 \"METHOD\" 레이블을 가진 노드 추출\n",
        "            matching_nodes = {node_id: label for node_id, label in nodes.items() if \"CONTROL_STRUCTURE\" in label or \"IDENTIFIER\" in label or \"LITERAL\" in label or \"LOCAL\" in label or \"operator\" in label}\n",
        "            # 노드 임베딩 생성 함수 호출\n",
        "            node_vectors = generate_node_embeddings(edges, matching_nodes)\n",
        "\n",
        "            # 엣지 정보 추출 및 임베딩 생성 함수 호출\n",
        "            edges = extract_edges_from_dot_file(lines)\n",
        "            edge_vectors = generate_edge_vectors(edges)\n",
        "            vec_edges = []\n",
        "            for edge in edge_vectors:\n",
        "                vec_edges.append(edge.tolist())\n",
        "\n",
        "            #시간복잡도 값 추출\n",
        "            match = re.match(r'^(\\d+)', file_name)\n",
        "            if match:\n",
        "                number_value = int(match.group(1))\n",
        "                codecomplexity = label_complexity(dataset['train'][number_value]['complexity'])\n",
        "            else:\n",
        "                codecomplexity = -1\n",
        "\n",
        "            writer.writerow([idx, node_vectors, vec_edges, codecomplexity])\n",
        "            idx += 1\n",
        "            # lines를 이용한 추가 작업 수행\n",
        "\n"
      ],
      "metadata": {
        "id": "QFGqKGo_C3R0"
      },
      "execution_count": null,
      "outputs": []
    },
    {
      "cell_type": "code",
      "source": [
        "for file_name in file_list:\n",
        "    if file_name.endswith(\".dot\"):  # 확장자가 .dot인 파일만 처리\n",
        "        file_path = os.path.join(folder_path, file_name)\n",
        "        lines = read_dot_file(file_path)\n",
        "        print(file_name)\n",
        "        # 노드 정보 추출 함수 호출\n",
        "        nodes = extract_node_info(lines)\n",
        "        # \"IDENTIFIER\" 또는 \"METHOD\" 레이블을 가진 노드 추출\n",
        "        matching_nodes = {node_id: label for node_id, label in nodes.items() if \"CONTROL_STRUCTURE\" in label or \"IDENTIFIER\" in label or \"LITERAL\" in label or \"LOCAL\" in label or \"operator\" in label}\n",
        "        # 노드 임베딩 생성 함수 호출\n",
        "        node_vectors = generate_node_embeddings(edges, matching_nodes)\n",
        "\n",
        "        # 엣지 정보 추출 및 임베딩 생성 함수 호출\n",
        "        edges = extract_edges_from_dot_file(lines)\n",
        "        edge_vectors = generate_edge_vectors(edges)\n",
        "        vec_edges = []\n",
        "        for edge in edge_vectors:\n",
        "             vec_edges.append(edge.tolist())\n",
        "\n",
        "        #시간복잡도 값 추출\n",
        "        match = re.match(r'^(\\d+)', file_name)\n",
        "        if match:\n",
        "            number_value = int(match.group(1))\n",
        "            codecomplexity = label_complexity(dataset['train'][number_value]['complexity'])\n",
        "        else:\n",
        "            codecomplexity = -1\n",
        "\n",
        "        writer.writerow([idx, node_vectors, vec_edges, codecomplexity])\n",
        "        idx += 1\n",
        "        # lines를 이용한 추가 작업 수행\n"
      ],
      "metadata": {
        "id": "HuY_UB99b0q6"
      },
      "execution_count": null,
      "outputs": []
    }
  ]
}