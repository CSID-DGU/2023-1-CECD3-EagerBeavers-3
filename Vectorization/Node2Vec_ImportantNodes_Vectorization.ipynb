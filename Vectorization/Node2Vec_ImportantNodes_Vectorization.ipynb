{
  "nbformat": 4,
  "nbformat_minor": 0,
  "metadata": {
    "colab": {
      "private_outputs": true,
      "provenance": []
    },
    "kernelspec": {
      "name": "python3",
      "display_name": "Python 3"
    },
    "language_info": {
      "name": "python"
    }
  },
  "cells": [
    {
      "cell_type": "code",
      "source": [
        "## using graphviz\n",
        "!apt-get -qq install -y graphviz && pip install -q pydot\n",
        "import pydot\n",
        "## 아래 있는것은 필수는 아닌데, 가끔 에러가 생길 때가 있어서, 그냥 같이 해줌.\n",
        "!apt-get install graphviz libgraphviz-dev pkg-config\n",
        "!pip install pygraphviz\n",
        "import pygraphviz"
      ],
      "metadata": {
        "id": "M2OzyO9g0lwo"
      },
      "execution_count": null,
      "outputs": []
    },
    {
      "cell_type": "code",
      "source": [
        "!pip install node2vec"
      ],
      "metadata": {
        "id": "eFbIuuiw0mp8"
      },
      "execution_count": null,
      "outputs": []
    },
    {
      "cell_type": "code",
      "source": [
        "from google.colab import drive\n",
        "drive.mount('/content/drive')"
      ],
      "metadata": {
        "id": "9EU3fH9x0myh"
      },
      "execution_count": null,
      "outputs": []
    },
    {
      "cell_type": "code",
      "execution_count": null,
      "metadata": {
        "id": "L8fCkGh60eDj"
      },
      "outputs": [],
      "source": [
        "from node2vec import Node2Vec\n",
        "import networkx as nx\n",
        "import pygraphviz as pgv\n",
        "import multiprocessing\n",
        "\n",
        "dot_filename = \"/content/drive/MyDrive/0-cpg.dot\"  # 실제 DOT 파일의 경로\n",
        "\n",
        "# DOT 파일 파싱 및 그래프 생성 함수\n",
        "def parse_dot_file(dot_filename):\n",
        "    graph = pgv.AGraph(dot_filename)\n",
        "    cpg_graph = nx.DiGraph()\n",
        "\n",
        "    for edge in graph.edges():\n",
        "        source = edge[0]\n",
        "        target = edge[1]\n",
        "        cpg_graph.add_edge(source, target)\n",
        "\n",
        "    return cpg_graph\n",
        "\n",
        "# DOT 파일 파싱 및 그래프 생성\n",
        "cpg_graph = parse_dot_file(dot_filename)\n",
        "\n",
        "# Node2Vec 모델 생성 (병렬처리 비활성화)\n",
        "node2vec = Node2Vec(cpg_graph, dimensions=128, walk_length=10, num_walks=10, workers=1)\n",
        "\n",
        "# 모델 학습\n",
        "model = node2vec.fit(window=5, min_count=1, batch_words=4)\n",
        "\n",
        "# Betweenness Centrality 계산\n",
        "betweenness_centrality = nx.betweenness_centrality(cpg_graph)\n",
        "\n",
        "# 중요도가 가장 높은 노드 찾기\n",
        "most_important_node = max(betweenness_centrality, key=betweenness_centrality.get)\n",
        "\n",
        "# 중요한 노드에 대한 벡터 출력\n",
        "if str(most_important_node) in model.wv:\n",
        "    important_node_vector = model.wv[str(most_important_node)]\n",
        "    print(f\"Most important node: {most_important_node}\")\n",
        "    print(f\"Vector: {important_node_vector}\")\n",
        "else:\n",
        "    print(\"Vector not available for the most important node.\")\n"
      ]
    }
  ]
}