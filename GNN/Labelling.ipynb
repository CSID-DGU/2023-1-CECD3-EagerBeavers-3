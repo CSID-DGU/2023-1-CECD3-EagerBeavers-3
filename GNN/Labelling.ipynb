{
  "nbformat": 4,
  "nbformat_minor": 0,
  "metadata": {
    "colab": {
      "private_outputs": true,
      "provenance": []
    },
    "kernelspec": {
      "name": "python3",
      "display_name": "Python 3"
    },
    "language_info": {
      "name": "python"
    }
  },
  "cells": [
    {
      "cell_type": "code",
      "execution_count": null,
      "metadata": {
        "id": "oC-tcxj6CXGZ"
      },
      "outputs": [],
      "source": [
        "from google.colab import drive\n",
        "drive.mount('/content/drive')\n",
        "\n",
        "!pip install datasets\n",
        "from datasets import load_dataset\n",
        "\n",
        "dataset = load_dataset(\"codeparrot/codecomplex\")"
      ]
    },
    {
      "cell_type": "code",
      "source": [
        "def label_complexity(complexity):\n",
        "    if complexity == 'constant':\n",
        "        return 0\n",
        "    elif complexity == 'logn':\n",
        "        return 1\n",
        "    elif complexity == 'linear':\n",
        "        return 2\n",
        "    elif complexity == 'nlogn':\n",
        "        return 3\n",
        "    elif complexity == 'quadratic':\n",
        "        return 4\n",
        "    else:\n",
        "        return -1  # 알 수 없는 경우\n",
        "print(dataset['train'][2673]['complexity'])"
      ],
      "metadata": {
        "id": "WnGpr6BfCfTW"
      },
      "execution_count": null,
      "outputs": []
    },
    {
      "cell_type": "code",
      "source": [
        "import os\n",
        "import pandas as pd\n",
        "file_path = '/content/drive/MyDrive/output_info.csv'\n",
        "df = pd.read_csv(file_path)\n",
        "print(df)"
      ],
      "metadata": {
        "id": "qkPQhRaqCocN"
      },
      "execution_count": null,
      "outputs": []
    },
    {
      "cell_type": "code",
      "source": [
        "index = int(df.iloc[1]['index'])\n",
        "print(label_complexity(dataset['train'][index]['complexity']))"
      ],
      "metadata": {
        "id": "U9wkCELpGhPS"
      },
      "execution_count": null,
      "outputs": []
    },
    {
      "cell_type": "code",
      "source": [
        "# 행과 열의 개수 출력\n",
        "num_rows, num_cols = df.shape\n",
        "\n",
        "print(f\"행의 개수: {num_rows}\")\n",
        "print(f\"열의 개수: {num_cols}\")"
      ],
      "metadata": {
        "id": "TQ_kxmN2HAUT"
      },
      "execution_count": null,
      "outputs": []
    },
    {
      "cell_type": "code",
      "source": [
        "# 새로운 열을 추가하기 위한 반복문\n",
        "new_column_data = []\n",
        "error = 0\n",
        "for index, row in df.iterrows():\n",
        "    index_value = row['index']\n",
        "    complexity = label_complexity(dataset['train'][index_value]['complexity'])\n",
        "    # 새로운 열 데이터 생성\n",
        "    if complexity == -1:\n",
        "        error = error + 1\n",
        "        print(dataset['train'][index_value]['complexity'])\n",
        "\n",
        "    new_column_data.append(complexity)\n",
        "print(error)"
      ],
      "metadata": {
        "id": "NIAlqeWxGUsK"
      },
      "execution_count": null,
      "outputs": []
    },
    {
      "cell_type": "code",
      "source": [
        "df['result'] = new_column_data\n",
        "\n",
        "# 결과 출력\n",
        "print(df.iloc[1])"
      ],
      "metadata": {
        "id": "x1pX8zLbiuQx"
      },
      "execution_count": null,
      "outputs": []
    },
    {
      "cell_type": "code",
      "source": [
        "# 삭제할 특정 값을 가지는 행의 인덱스를 찾기\n",
        "index_to_drop = df[df['result'] == -1].index\n",
        "\n",
        "# drop 메서드를 사용하여 해당 행 삭제\n",
        "df = df.drop(index_to_drop)"
      ],
      "metadata": {
        "id": "EPo9t7DMjGzT"
      },
      "execution_count": null,
      "outputs": []
    },
    {
      "cell_type": "code",
      "source": [
        "print(df[df['result'] == -1])"
      ],
      "metadata": {
        "id": "25K-g2cYjMIE"
      },
      "execution_count": null,
      "outputs": []
    }
  ]
}